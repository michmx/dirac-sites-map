{
 "cells": [
  {
   "cell_type": "markdown",
   "metadata": {},
   "source": [
    "# Generation of kml file with DIRAC output\n",
    "\n",
    "### -- Michel Villanueva"
   ]
  },
  {
   "cell_type": "markdown",
   "metadata": {},
   "source": [
    "The kml_gen code is called:"
   ]
  },
  {
   "cell_type": "code",
   "execution_count": 1,
   "metadata": {
    "collapsed": true
   },
   "outputs": [],
   "source": [
    "from kml_gen import *"
   ]
  },
  {
   "cell_type": "markdown",
   "metadata": {},
   "source": [
    "We need to import another packages:\n",
    "* lxml to manage xml format\n",
    "* copyfile and os to manage files\n",
    "* zipfile to compress the data and create kmz file"
   ]
  },
  {
   "cell_type": "code",
   "execution_count": 2,
   "metadata": {
    "collapsed": true
   },
   "outputs": [],
   "source": [
    "from lxml import etree\n",
    "from shutil import copyfile\n",
    "import os, zipfile"
   ]
  },
  {
   "cell_type": "markdown",
   "metadata": {},
   "source": [
    "The file \"sites.csv\" contains the coordinates of the sites"
   ]
  },
  {
   "cell_type": "code",
   "execution_count": 3,
   "metadata": {
    "collapsed": false
   },
   "outputs": [
    {
     "name": "stdout",
     "output_type": "stream",
     "text": [
      "['Site', 'CoordinateX', 'CoordinateY\\r']\n",
      "['Adelaide', '138.57121', '-34.910836\\r']\n",
      "['SIGNET', '14.48767', '46.04217\\r']\n",
      "['AWS_Tokyo', '139.763', '35.784498\\r']\n",
      "['CC1_Krakow', '19.890541', '50.089557\\r']\n",
      "['BINP', '83.11', '54.85\\r']\n",
      "['Beihang', '116.3408333', '39.98\\r']\n",
      "['CINVESTAV', '-99.128603', '19.510869\\r']\n",
      "['DESY', '9.8772', '53.5772\\r']\n",
      "['Hokudai', '141.345669', '43.073511\\r']\n",
      "['Nara-WU', '135.828454', '34.68787\\r']\n",
      "['Niigata', '138.941511', '37.867478\\r']\n",
      "['Osaka-CU', '135.5075357', '34.5927358\\r']\n",
      "['PNNL-CASCADE', '-119.307833', '46.347283\\r']\n",
      "['PNNL-PIC', '-119.307833', '46.347283\\r']\n",
      "['PNNL', '-119.307833', '46.347283\\r']\n",
      "['TIFR', '72.81', '19.91\\r']\n",
      "['TMU', '139.377199', '35.61656\\r']\n",
      "['DIRAC.Tokyo', '139.763', '35.714\\r']\n",
      "['UAS', '-107.381713', '24.826213\\r']\n",
      "['UVic', '-123.31', '48.47\\r']\n",
      "['DIRAC.Yonsei.kr', '126.938575', '37.565807\\r']\n",
      "['CESNET', '14.3886', '50.102\\r']\n",
      "['CNAF', '11.3417', '44.4948\\r']\n",
      "['CYFRONET', '19.90916', '50.068978\\r']\n",
      "['Cosenza', '16.181456', '39.331548\\r']\n",
      "['DESY', '9.8772', '53.5772\\r']\n",
      "['Frascati', '12.6844', '41.797\\r']\n",
      "['HEPHY', '16.2', '48.2\\r']\n",
      "['KEK2', '140.076051', '36.148578\\r']\n",
      "['KEK', '140.076051', '36.148578\\r']\n",
      "['KISTI', '127.366', '36.366\\r']\n",
      "['KIT', '8.4321', '49.0963\\r']\n",
      "['KMI', '136.969546', '35.154506\\r']\n",
      "['Legnaro', '11.57', '45.21\\r']\n",
      "['MPPMU', '11.6731', '48.2633\\r']\n",
      "['McGill', '-73.8', '45.4\\r']\n",
      "['Melbourne', '144.96', '-37.8\\r']\n",
      "['NCHC', '120.281496', '23.100508\\r']\n",
      "['NTU', '121.539', '25.015\\r']\n",
      "['Napoli', '14.18287', '40.83785\\r']\n",
      "['Pisa', '10.4', '43.7\\r']\n",
      "['Torino', '7.4', '45.03\\r']\n",
      "['ULAKBIM', '33.02', '39.99\\r']\n",
      "['FNAL', '-88.2546', '41.8412\\r']\n",
      "['Nebraska', '-96.68', '40.82\\r']\n",
      "['VT', '-80.4132', '37.2038\\r']\n",
      "['KMI', '136.969546', '35.154506\\r']\n",
      "['UVic', '-123.311', '48.464\\r']\n",
      "['UA-ISMA', '36.2206144', '50.0321613\\r']\n",
      "['Sydney', '151.2143191', '-33.8607819\\r']\n",
      "['Virginia', '-78.4167041', '37.4030325\\r']\n"
     ]
    }
   ],
   "source": [
    "data_coordinates = read_data(\"input/sites.csv\", split = ',')\n",
    "for site in data_coordinates:\n",
    "    print site"
   ]
  },
  {
   "cell_type": "markdown",
   "metadata": {},
   "source": [
    "The object 'kml_file' contains all the structure of the kml (xml) file"
   ]
  },
  {
   "cell_type": "code",
   "execution_count": 4,
   "metadata": {
    "collapsed": true
   },
   "outputs": [],
   "source": [
    "kml_file = etree.Element('kml')\n",
    "kml_document = etree.Element('Document')\n",
    "kml_file.append(kml_document)"
   ]
  },
  {
   "cell_type": "markdown",
   "metadata": {},
   "source": [
    "Directory 'content/' is used to create later the kmz file"
   ]
  },
  {
   "cell_type": "code",
   "execution_count": 5,
   "metadata": {
    "collapsed": true
   },
   "outputs": [],
   "source": [
    "if not os.path.exists('./content/'):\n",
    "    os.mkdir('./content')\n",
    "    print \"'content' directory created.\""
   ]
  },
  {
   "cell_type": "markdown",
   "metadata": {},
   "source": [
    "The info used to generate the map is the output of gbasf2 for the commands \n",
    "<pre>$gb2_site_summary</pre>\n"
   ]
  },
  {
   "cell_type": "code",
   "execution_count": 6,
   "metadata": {
    "collapsed": false
   },
   "outputs": [
    {
     "name": "stdout",
     "output_type": "stream",
     "text": [
      "Site                      Done    Failed   Running   Stalled   Waiting\n",
      "ARC.SIGNET.si           164981      1868       872         1         1\n",
      "CLOUD.AWS_Sydney.au       1020      1006        12         0         2\n",
      "CLOUD.AWS_Tokyo.jp         369       110         1         0         2\n",
      "CLOUD.AWS_Virginia.u      4002      1470        93         0         5\n",
      "CLOUD.CC1_Krakow.pl      45411       445       202         0         2\n",
      "DIRAC.BINP.ru           152344      6303       549         0         2\n",
      "DIRAC.Beihang.cn         10939      1710       100         0         0\n",
      "DIRAC.CINVESTAV.mx       47371      1533        94         0         0\n",
      "DIRAC.DESY.de                2         0         0         0         1\n",
      "DIRAC.Hokudai.jp          9025        88        40         0         0\n",
      "DIRAC.Nara-WU.jp         11140       257        20         0         0\n",
      "DIRAC.Niigata.jp         10418      2122        44         0         2\n",
      "DIRAC.Osaka-CU.jp        17108       126        35         0         0\n",
      "DIRAC.PNNL.us           373525      3000      2549         0         2\n",
      "DIRAC.TIFR.in             3457       141         8         0         2\n",
      "DIRAC.TMU.jp             15876       455        52         0         1\n",
      "DIRAC.Tokyo.jp            3472        27         8         0         3\n",
      "DIRAC.UAS.mx             11104       394        24         0         0\n",
      "DIRAC.UVic.ca           393711     14246      1488         3         3\n",
      "DIRAC.Yonsei.kr           7102      3615        33         0         2\n",
      "LCG.CESNET.cz           186566      1612       507         0         1\n",
      "LCG.CNAF.it             131013     19562       440         0        18\n",
      "LCG.CYFRONET.pl          88099      3829       328         0         2\n",
      "LCG.Cosenza.it          116202      1538       504         0         3\n",
      "LCG.DESY.de            1016913     21821      4436         0         3\n",
      "LCG.Frascati.it         119609      1319       213         0         1\n",
      "LCG.HEPHY.at            249846      4074       474         0         2\n",
      "LCG.KEK2.jp             509486     13250       291         0         2\n",
      "LCG.KISTI.kr             75094      1247       311         0         1\n",
      "LCG.KIT.de              561410      5395      3409         0         1\n",
      "LCG.KMI.jp              176709      2590       370         0         2\n",
      "LCG.Legnaro.it           18976       173         2         0         2\n",
      "LCG.MPPMU.de            310496      6835       793         5         3\n",
      "LCG.McGill.ca            18109       437        43         0         2\n",
      "LCG.Melbourne.au         46116       724        58         0         3\n",
      "LCG.NCHC.tw             188626      1806       498         0         2\n",
      "LCG.NTU.tw                7208        77        28         0         2\n",
      "LCG.Napoli.it           275909      7565      1029         0         1\n",
      "LCG.Pisa.it             392996     11473       348         0         1\n",
      "LCG.Torino.it            21475       513         3         0         2\n",
      "LCG.ULAKBIM.tr           15940       863         0         0         2\n",
      "SSH.KMI.jp                8094        67        28         0         2\n",
      "----------------------------------------------------------------------------------------------------\n",
      "Total                  5817269    145686     20337         9        96\n"
     ]
    }
   ],
   "source": [
    "with open('info/gb2_site_summary.txt', 'r') as f:\n",
    "    print(f.read())"
   ]
  },
  {
   "cell_type": "markdown",
   "metadata": {},
   "source": [
    "and \n",
    "<pre>$gb2_list_se -l</pre>"
   ]
  },
  {
   "cell_type": "code",
   "execution_count": 7,
   "metadata": {
    "collapsed": false
   },
   "outputs": [
    {
     "name": "stdout",
     "output_type": "stream",
     "text": [
      "Adelaide-DATA-SE\n",
      " Endpoint: coepp-dpm-01.ersa.edu.au:8446/srm/managerv2?SFN=\n",
      " Path: /dpm/ersa.edu.au/home/belle/DATA\n",
      " Read: Active\n",
      " Write: Active\n",
      "Adelaide-SE\n",
      " Endpoint: coepp-dpm-01.ersa.edu.au:8446/srm/managerv2?SFN=\n",
      " Path: /dpm/ersa.edu.au/home/belle/belledisk\n",
      " Read: Active\n",
      " Write: Active\n",
      "Adelaide-TMP-SE\n",
      " Endpoint: coepp-dpm-01.ersa.edu.au:8446/srm/managerv2?SFN=\n",
      " Path: /dpm/ersa.edu.au/home/belle/TMP\n",
      " Read: Active\n",
      " Write: Active\n",
      "CESNET-DATA-SE\n",
      " Endpoint: dpm1.egee.cesnet.cz:8446/srm/managerv2?SFN=\n",
      " Path: /dpm/cesnet.cz/home/belle/DATA\n",
      " Read: Active\n",
      " Write: Active\n",
      "CESNET-TMP-SE\n",
      " Endpoint: dpm1.egee.cesnet.cz:8446/srm/managerv2?SFN=\n",
      " Path: /dpm/cesnet.cz/home/belle/TMP\n",
      " Read: Active\n",
      " Write: Active\n",
      "CNAF-DATA-SE\n",
      " Endpoint: storm-fe-archive.cr.cnaf.infn.it:8444/srm/managerv2?SFN=\n",
      " Path: /belle/DATA\n",
      " Read: Active\n",
      " Write: Active\n",
      "CNAF-SE\n",
      " Endpoint: storm-fe-archive.cr.cnaf.infn.it:8444/srm/managerv2?SFN=\n",
      " Path: /\n",
      " Read: Active\n",
      " Write: Active\n",
      "CNAF-TMP-SE\n",
      " Endpoint: storm-fe-archive.cr.cnaf.infn.it:8444/srm/managerv2?SFN=\n",
      " Path: /belle/TMP\n",
      " Read: Active\n",
      " Write: Active\n",
      "CYFRONET-DATA-SE\n",
      " Endpoint: dpm.cyf-kr.edu.pl:8446/srm/managerv2?SFN=\n",
      " Path: /dpm/cyf-kr.edu.pl/home/belle/DATA\n",
      " Read: Active\n",
      " Write: Active\n",
      "CYFRONET-SE\n",
      " Endpoint: dpm.cyf-kr.edu.pl:8446/srm/managerv2?SFN=\n",
      " Path: /dpm/cyf-kr.edu.pl/home\n",
      " Read: Active\n",
      " Write: Active\n",
      "CYFRONET-TMP-SE\n",
      " Endpoint: dpm.cyf-kr.edu.pl:8446/srm/managerv2?SFN=\n",
      " Path: /dpm/cyf-kr.edu.pl/home/belle/TMP\n",
      " Read: Active\n",
      " Write: Active\n",
      "DESY-DATA-SE\n",
      " Endpoint: dcache-se-desy.desy.de:8443/srm/managerv2?SFN=\n",
      " Path: /pnfs/desy.de/belle/belle2/DATA\n",
      " Read: Active\n",
      " Write: Active\n",
      "DESY-SE\n",
      " Endpoint: dcache-se-desy.desy.de:8443/srm/managerv2?SFN=\n",
      " Path: /pnfs/desy.de\n",
      " Read: Active\n",
      " Write: Active\n",
      "DESY-TMP-SE\n",
      " Endpoint: dcache-se-desy.desy.de:8443/srm/managerv2?SFN=\n",
      " Path: /pnfs/desy.de/belle/belle2/TMP\n",
      " Read: Active\n",
      " Write: Active\n",
      "Frascati-DATA-SE\n",
      " Endpoint: atlasse.lnf.infn.it:8446/srm/managerv2?SFN=\n",
      " Path: /dpm/lnf.infn.it/home/belle/DATA\n",
      " Read: Active\n",
      " Write: Active\n",
      "Frascati-SE\n",
      " Endpoint: atlasse.lnf.infn.it:8446/srm/managerv2?SFN=\n",
      " Path: /dpm/lnf.infn.it/home\n",
      " Read: Active\n",
      " Write: Active\n",
      "Frascati-TMP-SE\n",
      " Endpoint: atlasse.lnf.infn.it:8446/srm/managerv2?SFN=\n",
      " Path: /dpm/lnf.infn.it/home/belle/TMP\n",
      " Read: Active\n",
      " Write: Active\n",
      "HEPHY-SE\n",
      " Endpoint: hephyse.oeaw.ac.at:8446/srm/managerv2?SFN=\n",
      " Path: /dpm/oeaw.ac.at/home\n",
      " Read: Active\n",
      " Write: Active\n",
      "HEPHY-TMP-SE\n",
      " Endpoint: hephyse.oeaw.ac.at:8446/srm/managerv2?SFN=\n",
      " Path: /dpm/oeaw.ac.at/home/belle/TMP\n",
      " Read: Active\n",
      " Write: Active\n",
      "KEK-FailoverSE\n",
      " Endpoint: dirac1.cc.kek.jp:9149\n",
      " Path: /DataManagement/StorageElement\n",
      " Read: Active\n",
      " Write: Active\n",
      "KEK2-DATA-SE\n",
      " Endpoint: kek2-se01.cc.kek.jp:8444/srm/managerv2?SFN=\n",
      " Path: /belle/DATA\n",
      " Read: Active\n",
      " Write: Active\n",
      "KEK2-LOCAL-SE\n",
      " Endpoint: kek2-se01.cc.kek.jp:8444/srm/managerv2?SFN=\n",
      " Path: /belle_local_test\n",
      " Read: Active\n",
      " Write: Active\n",
      "KEK2-SE\n",
      " Endpoint: kek2-se01.cc.kek.jp:8444/srm/managerv2?SFN=\n",
      " Path: /\n",
      " Read: Active\n",
      " Write: Active\n",
      "KEK2-TMP-SE\n",
      " Endpoint: kek2-se01.cc.kek.jp:8444/srm/managerv2?SFN=\n",
      " Path: /belle/TMP\n",
      " Read: Active\n",
      " Write: Active\n",
      "KEK2-XRootD-SE\n",
      " Endpoint: xrootd.cc.kek.jp:1094\n",
      " Path: //grid\n",
      " Read: Active\n",
      " Write: Active\n",
      "KISTI-DATA-SE\n",
      " Endpoint: belle-se-head.sdfarm.kr:8446/srm/managerv2?SFN=\n",
      " Path: /dpm/sdfarm.kr/home/belle/DATA\n",
      " Read: Active\n",
      " Write: Active\n",
      "KISTI-TMP-SE\n",
      " Endpoint: belle-se-head.sdfarm.kr:8446/srm/managerv2?SFN=\n",
      " Path: /dpm/sdfarm.kr/home/belle/TMP\n",
      " Read: Active\n",
      " Write: Active\n",
      "KIT-DATA-SE\n",
      " Endpoint: gridka-dcache.fzk.de:8443/srm/managerv2?SFN=\n",
      " Path: /pnfs/gridka.de/belle/disk-only/DATA\n",
      " Read: Active\n",
      " Write: Active\n",
      "KIT-SE\n",
      " Endpoint: gridka-dcache.fzk.de:8443/srm/managerv2?SFN=\n",
      " Path: /pnfs/gridka.de/belle/disk-only\n",
      " Read: Active\n",
      " Write: Active\n",
      "KIT-TMP-SE\n",
      " Endpoint: gridka-dcache.fzk.de:8443/srm/managerv2?SFN=\n",
      " Path: /pnfs/gridka.de/belle/disk-only/TMP\n",
      " Read: Active\n",
      " Write: Active\n",
      "KMI-DATA-SE\n",
      " Endpoint: nsrmfe01.hepl.phys.nagoya-u.ac.jp:8444/srm/managerv2?SFN=\n",
      " Path: /belle/DATA\n",
      " Read: Active\n",
      " Write: Active\n",
      "KMI-LOCAL-SE\n",
      " Endpoint: nsrmfe01.hepl.phys.nagoya-u.ac.jp:8444/srm/managerv2?SFN=\n",
      " Path: /b2j\n",
      " Read: Active\n",
      " Write: Active\n",
      "KMI-SE\n",
      " Endpoint: nsrmfe01.hepl.phys.nagoya-u.ac.jp:8444/srm/managerv2?SFN=\n",
      " Path: /\n",
      " Read: Active\n",
      " Write: Active\n",
      "KMI-TMP-SE\n",
      " Endpoint: nsrmfe01.hepl.phys.nagoya-u.ac.jp:8444/srm/managerv2?SFN=\n",
      " Path: /belle/TMP\n",
      " Read: Active\n",
      " Write: Active\n",
      "KMI-XRootD-SE\n",
      " Endpoint: ntrq01.hepl.phys.nagoya-u.ac.jp:1094\n",
      " Path: //xrootd\n",
      " Read: Active\n",
      " Write: Active\n",
      "MPPMU-DATA-SE\n",
      " Endpoint: grid-srm.rzg.mpg.de:8443/srm/managerv2?SFN=\n",
      " Path: /pnfs/rzg.mpg.de/data/belle/DATA\n",
      " Read: Active\n",
      " Write: Active\n",
      "MPPMU-SE\n",
      " Endpoint: grid-srm.rzg.mpg.de:8443/srm/managerv2?SFN=\n",
      " Path: /pnfs/rzg.mpg.de/data\n",
      " Read: Active\n",
      " Write: Active\n",
      "MPPMU-TMP-SE\n",
      " Endpoint: grid-srm.rzg.mpg.de:8443/srm/managerv2?SFN=\n",
      " Path: /pnfs/rzg.mpg.de/data/belle/TMP\n",
      " Read: Active\n",
      " Write: Active\n",
      "Melbourne-DATA-SE\n",
      " Endpoint: b2se.mel.coepp.org.au:8446/srm/managerv2?SFN=\n",
      " Path: /dpm/mel.coepp.org.au/home/belle/DATA\n",
      " Read: Active\n",
      " Write: Active\n",
      "Melbourne-SE\n",
      " Endpoint: b2se.mel.coepp.org.au:8446/srm/managerv2?SFN=\n",
      " Path: /dpm/mel.coepp.org.au/home/belle/bellescratchdisk\n",
      " Read: Active\n",
      " Write: Active\n",
      "Melbourne-TMP-SE\n",
      " Endpoint: b2se.mel.coepp.org.au:8446/srm/managerv2?SFN=\n",
      " Path: /dpm/mel.coepp.org.au/home/belle/TMP\n",
      " Read: Active\n",
      " Write: Active\n",
      "NCHC-DATA-SE\n",
      " Endpoint: se01.grid.nchc.org.tw:8446/srm/managerv2?SFN=\n",
      " Path: /dpm/grid.nchc.org.tw/home/belle/DATA\n",
      " Read: Active\n",
      " Write: Active\n",
      "NTU-DATA-SE\n",
      " Endpoint: bgrid3.phys.ntu.edu.tw:8443/srm/managerv2?SFN=\n",
      " Path: /pnfs/phys.ntu.edu.tw/home/belle/DATA\n",
      " Read: Active\n",
      " Write: Active\n",
      "NTU-SE\n",
      " Endpoint: bgrid3.phys.ntu.edu.tw:8443/srm/managerv2?SFN=\n",
      " Path: /pnfs/phys.ntu.edu.tw/home/\n",
      " Read: Active\n",
      " Write: Active\n",
      "NTU-TMP-SE\n",
      " Endpoint: bgrid3.phys.ntu.edu.tw:8443/srm/managerv2?SFN=\n",
      " Path: /pnfs/phys.ntu.edu.tw/home/belle/TMP\n",
      " Read: Active\n",
      " Write: Active\n",
      "Napoli-DATA-SE\n",
      " Endpoint: belle-dpm-01.na.infn.it:8446/srm/managerv2?SFN=\n",
      " Path: /dpm/na.infn.it/home/belle/DATA\n",
      " Read: Active\n",
      " Write: Active\n",
      "Napoli-SE\n",
      " Endpoint: se.scope.unina.it:8446/srm/managerv2?SFN=\n",
      " Path: /dpm/scope.unina.it/home\n",
      " Read: Active\n",
      " Write: Active\n",
      "Napoli-TMP-SE\n",
      " Endpoint: belle-dpm-01.na.infn.it:8446/srm/managerv2?SFN=\n",
      " Path: /dpm/na.infn.it/home/belle/TMP\n",
      " Read: Active\n",
      " Write: Active\n",
      "PNNL-DATA-SE\n",
      " Endpoint: se.hep.pnnl.gov:8443/srm/v2/server?SFN=\n",
      " Path: /se/belle/DATA\n",
      " Read: Active\n",
      " Write: Active\n",
      "PNNL-DEDICATED-SE\n",
      " Endpoint: se.hep.pnnl.gov:8443/srm/v2/server?SFN=\n",
      " Path: /se\n",
      " Read: Active\n",
      " Write: Active\n",
      "PNNL-TMP-SE\n",
      " Endpoint: se.hep.pnnl.gov:8443/srm/v2/server?SFN=\n",
      " Path: /se/belle/TMP\n",
      " Read: Active\n",
      " Write: Active\n",
      "SIGNET-DATA-SE\n",
      " Endpoint: dcache.ijs.si:8443/srm/managerv2?SFN=\n",
      " Path: /pnfs/ijs.si/belle/DATA\n",
      " Read: Active\n",
      " Write: Active\n",
      "SIGNET-SE\n",
      " Endpoint: dcache.ijs.si:8443/srm/managerv2?SFN=\n",
      " Path: /pnfs/ijs.si\n",
      " Read: Active\n",
      " Write: Active\n",
      "SIGNET-TMP-SE\n",
      " Endpoint: dcache.ijs.si:8443/srm/managerv2?SFN=\n",
      " Path: /pnfs/ijs.si/belle/TMP\n",
      " Read: Active\n",
      " Write: Active\n",
      "Torino-DATA-SE\n",
      " Endpoint: se-srm-00.to.infn.it:8444/srm/managerv2?SFN=\n",
      " Path: /belle/DATA\n",
      " Read: Active\n",
      " Write: Active\n",
      "Torino-TMP-SE\n",
      " Endpoint: se-srm-00.to.infn.it:8444/srm/managerv2?SFN=\n",
      " Path: /belle/TMP\n",
      " Read: Active\n",
      " Write: Active\n",
      "UA-ISMA-SE\n",
      " Endpoint: gl-dpm.isma.kharkov.ua:8446/srm/managerv2?SFN=\n",
      " Path: /dpm/isma.kharkov.ua/home\n",
      " Read: Active\n",
      " Write: Active\n",
      "ULAKBIM-DATA-SE\n",
      " Endpoint: torik1.ulakbim.gov.tr:8446/srm/managerv2?SFN=\n",
      " Path: /dpm/ulakbim.gov.tr/home/belle/DATA\n",
      " Read: Active\n",
      " Write: Active\n",
      "ULAKBIM-SE\n",
      " Endpoint: torik1.ulakbim.gov.tr:8446/srm/managerv2?SFN=\n",
      " Path: /dpm/ulakbim.gov.tr/home\n",
      " Read: Active\n",
      " Write: Active\n",
      "ULAKBIM-TMP-SE\n",
      " Endpoint: torik1.ulakbim.gov.tr:8446/srm/managerv2?SFN=\n",
      " Path: /dpm/ulakbim.gov.tr/home/belle/TMP\n",
      " Read: Active\n",
      " Write: Active\n",
      "UVic-DATA-SE\n",
      " Endpoint: charon01.westgrid.ca:8443/srm/managerv2?SFN=\n",
      " Path: /pnfs/westgrid.uvic.ca/data/belle/belledisk/DATA\n",
      " Read: Active\n",
      " Write: Active\n",
      "UVic-SE\n",
      " Endpoint: charon01.westgrid.ca:8443/srm/managerv2?SFN=\n",
      " Path: /pnfs/westgrid.uvic.ca/data/belle/belledisk/\n",
      " Read: Active\n",
      " Write: Active\n",
      "UVic-TMP-SE\n",
      " Endpoint: charon01.westgrid.ca:8443/srm/managerv2?SFN=\n",
      " Path: /pnfs/westgrid.uvic.ca/data/belle/belledisk/TMP\n",
      " Read: Active\n",
      " Write: Active\n"
     ]
    }
   ],
   "source": [
    "with open('info/gb2_list_se.txt', 'r') as f:\n",
    "    print(f.read())"
   ]
  },
  {
   "cell_type": "markdown",
   "metadata": {},
   "source": [
    "With  **`read_ce_sites`**  we pull the computing element sites information. Notice that now includes the coordinates."
   ]
  },
  {
   "cell_type": "code",
   "execution_count": 8,
   "metadata": {
    "collapsed": false
   },
   "outputs": [
    {
     "ename": "NameError",
     "evalue": "name 'read_ce_sites' is not defined",
     "output_type": "error",
     "traceback": [
      "\u001b[0;31m---------------------------------------------------------------------------\u001b[0m",
      "\u001b[0;31mNameError\u001b[0m                                 Traceback (most recent call last)",
      "\u001b[0;32m<ipython-input-8-1e808be46bd8>\u001b[0m in \u001b[0;36m<module>\u001b[0;34m()\u001b[0m\n\u001b[1;32m      1\u001b[0m \u001b[0;31m# Pull the CE sites summary\u001b[0m\u001b[0;34m\u001b[0m\u001b[0;34m\u001b[0m\u001b[0m\n\u001b[0;32m----> 2\u001b[0;31m \u001b[0mce_sites\u001b[0m \u001b[0;34m=\u001b[0m \u001b[0mread_ce_sites\u001b[0m\u001b[0;34m(\u001b[0m\u001b[0;34m'info/gb2_site_summary.txt'\u001b[0m\u001b[0;34m)\u001b[0m\u001b[0;34m\u001b[0m\u001b[0m\n\u001b[0m\u001b[1;32m      3\u001b[0m \u001b[0;32mfor\u001b[0m \u001b[0mce\u001b[0m \u001b[0;32min\u001b[0m \u001b[0mce_sites\u001b[0m\u001b[0;34m:\u001b[0m\u001b[0;34m\u001b[0m\u001b[0m\n\u001b[1;32m      4\u001b[0m     \u001b[0mce\u001b[0m\u001b[0;34m.\u001b[0m\u001b[0mprint_info\u001b[0m\u001b[0;34m(\u001b[0m\u001b[0;34m)\u001b[0m\u001b[0;34m\u001b[0m\u001b[0m\n",
      "\u001b[0;31mNameError\u001b[0m: name 'read_ce_sites' is not defined"
     ]
    }
   ],
   "source": [
    "# Pull the CE sites summary\n",
    "ce_sites = read_ce_sites('info/gb2_site_summary.txt')\n",
    "for ce in ce_sites:\n",
    "    ce.print_info()"
   ]
  },
  {
   "cell_type": "markdown",
   "metadata": {},
   "source": [
    "And the same for the storage element sites"
   ]
  },
  {
   "cell_type": "code",
   "execution_count": null,
   "metadata": {
    "collapsed": false
   },
   "outputs": [],
   "source": [
    "# Pull the SE sites summary\n",
    "se_sites = read_se_sites('info/gb2_list_se.txt')\n",
    "for se in se_sites:\n",
    "    se.print_info()"
   ]
  },
  {
   "cell_type": "code",
   "execution_count": null,
   "metadata": {
    "collapsed": true
   },
   "outputs": [],
   "source": [
    "for ce in ce_sites:\n",
    "    kml_document.append(add_ce_site(ce))\n",
    "    pie_plot(ce.name, ce.jobs_done, ce.jobs_failed)\n",
    "for se in se_sites:\n",
    "    if not 'TMP' in se.name and not 'DATA' in se.name :\n",
    "        kml_document.append(add_se_site(se))"
   ]
  },
  {
   "cell_type": "code",
   "execution_count": null,
   "metadata": {
    "collapsed": false
   },
   "outputs": [],
   "source": [
    "kml_writer = open(\"content/KMLGen.kml\",\"w\")\n",
    "print etree.tostring(kml_file, doctype='<?xml version=\"1.0\" encoding=\"UTF-8\"?>', pretty_print=True)\n",
    "kml_writer.write(etree.tostring(kml_file, doctype='<?xml version=\"1.0\" encoding=\"UTF-8\"?>', pretty_print=True))\n",
    "kml_writer.close()"
   ]
  },
  {
   "cell_type": "code",
   "execution_count": null,
   "metadata": {
    "collapsed": false
   },
   "outputs": [],
   "source": [
    "# Make kmz file\n",
    "print \"Generating KMZ file...\"\n",
    "if not os.path.exists('./output/'):\n",
    "    os.mkdir('./output')\n",
    "    print \"'output' directory created.\"\n",
    "zp = zipfile.ZipFile('output/GridMap.kmz','w')\n",
    "os.chdir(\"content\")\n",
    "for file in os.listdir(\".\"):\n",
    "    zp.write(os.path.join(file))\n",
    "zp.close()\n",
    "print \"KMZ file generated.\""
   ]
  },
  {
   "cell_type": "markdown",
   "metadata": {},
   "source": [
    "In Google Earth this looks really cool..."
   ]
  },
  {
   "cell_type": "code",
   "execution_count": 9,
   "metadata": {
    "collapsed": false
   },
   "outputs": [
    {
     "data": {
      "text/html": [
       "\n",
       "        <iframe\n",
       "            width=\"400\"\n",
       "            height=\"300\"\n",
       "            src=\"https://www.youtube.com/embed/b3toCXxkxew\"\n",
       "            frameborder=\"0\"\n",
       "            allowfullscreen\n",
       "        ></iframe>\n",
       "        "
      ],
      "text/plain": [
       "<IPython.lib.display.YouTubeVideo at 0x105b43710>"
      ]
     },
     "execution_count": 9,
     "metadata": {},
     "output_type": "execute_result"
    }
   ],
   "source": [
    "from IPython.display import YouTubeVideo\n",
    "YouTubeVideo(\"b3toCXxkxew\")"
   ]
  },
  {
   "cell_type": "markdown",
   "metadata": {},
   "source": [
    "And [**this**](http://jaguar.fis.cinvestav.mx/testing/gridmap) is the result when you put the kmz file running on google maps."
   ]
  },
  {
   "cell_type": "code",
   "execution_count": 10,
   "metadata": {
    "collapsed": false
   },
   "outputs": [
    {
     "data": {
      "text/html": [
       "<iframe src='http://jaguar.fis.cinvestav.mx/testing/gridmap' width = 600 height = 400></iframe>"
      ],
      "text/plain": [
       "<IPython.core.display.HTML object>"
      ]
     },
     "execution_count": 10,
     "metadata": {},
     "output_type": "execute_result"
    }
   ],
   "source": [
    "from IPython.display import HTML\n",
    "HTML(\"<iframe src='http://jaguar.fis.cinvestav.mx/testing/gridmap' width = 600 height = 400></iframe>\")"
   ]
  },
  {
   "cell_type": "code",
   "execution_count": null,
   "metadata": {
    "collapsed": true
   },
   "outputs": [],
   "source": []
  }
 ],
 "metadata": {
  "kernelspec": {
   "display_name": "Python 2",
   "language": "python",
   "name": "python2"
  },
  "language_info": {
   "codemirror_mode": {
    "name": "ipython",
    "version": 2
   },
   "file_extension": ".py",
   "mimetype": "text/x-python",
   "name": "python",
   "nbconvert_exporter": "python",
   "pygments_lexer": "ipython2",
   "version": "2.7.10"
  }
 },
 "nbformat": 4,
 "nbformat_minor": 0
}
