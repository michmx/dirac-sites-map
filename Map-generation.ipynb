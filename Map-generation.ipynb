{
 "cells": [
  {
   "cell_type": "markdown",
   "metadata": {},
   "source": [
    "# Generation of Javascript file with DIRAC output\n",
    "\n",
    "### -- Michel Villanueva"
   ]
  },
  {
   "cell_type": "markdown",
   "metadata": {},
   "source": [
    "The Javascript generator code is called"
   ]
  },
  {
   "cell_type": "code",
   "execution_count": 1,
   "metadata": {
    "collapsed": true
   },
   "outputs": [],
   "source": [
    "from js_gen import *"
   ]
  },
  {
   "cell_type": "markdown",
   "metadata": {},
   "source": [
    "The file \"sites.csv\" contains the coordinates of the sites"
   ]
  },
  {
   "cell_type": "code",
   "execution_count": 2,
   "metadata": {
    "collapsed": false,
    "scrolled": true
   },
   "outputs": [
    {
     "name": "stdout",
     "output_type": "stream",
     "text": [
      "['Site', 'CoordinateX', 'CoordinateY\\r']\n",
      "['Adelaide', '138.57121', '-34.910836\\r']\n",
      "['SIGNET', '14.48767', '46.04217\\r']\n",
      "['AWS_Tokyo', '139.763', '35.784498\\r']\n",
      "['CC1_Krakow', '19.890541', '50.089557\\r']\n",
      "['BINP', '83.11', '54.85\\r']\n",
      "['Beihang', '116.3408333', '39.98\\r']\n",
      "['CINVESTAV', '-99.128603', '19.510869\\r']\n",
      "['DESY', '9.8772', '53.5772\\r']\n",
      "['Hokudai', '141.345669', '43.073511\\r']\n",
      "['Nara-WU', '135.828454', '34.68787\\r']\n",
      "['Niigata', '138.941511', '37.867478\\r']\n",
      "['Osaka-CU', '135.5075357', '34.5927358\\r']\n",
      "['PNNL-CASCADE', '-119.307833', '46.347283\\r']\n",
      "['PNNL-PIC', '-119.307833', '46.347283\\r']\n",
      "['PNNL', '-119.307833', '46.347283\\r']\n",
      "['TIFR', '72.81', '19.91\\r']\n",
      "['TMU', '139.377199', '35.61656\\r']\n",
      "['DIRAC.Tokyo', '139.763', '35.714\\r']\n",
      "['UAS', '-107.381713', '24.826213\\r']\n",
      "['UVic', '-123.31', '48.47\\r']\n",
      "['DIRAC.Yonsei.kr', '126.938575', '37.565807\\r']\n",
      "['CESNET', '14.3886', '50.102\\r']\n",
      "['CNAF', '11.3417', '44.4948\\r']\n",
      "['CYFRONET', '19.90916', '50.068978\\r']\n",
      "['Cosenza', '16.181456', '39.331548\\r']\n",
      "['DESY', '9.8772', '53.5772\\r']\n",
      "['Frascati', '12.6844', '41.797\\r']\n",
      "['HEPHY', '16.2', '48.2\\r']\n",
      "['KEK2', '140.076051', '36.148578\\r']\n",
      "['KEK', '140.076051', '36.148578\\r']\n",
      "['KISTI', '127.366', '36.366\\r']\n",
      "['KIT', '8.4321', '49.0963\\r']\n",
      "['KMI', '136.969546', '35.154506\\r']\n",
      "['Legnaro', '11.57', '45.21\\r']\n",
      "['MPPMU', '11.6731', '48.2633\\r']\n",
      "['McGill', '-73.8', '45.4\\r']\n",
      "['Melbourne', '144.96', '-37.8\\r']\n",
      "['NCHC', '120.281496', '23.100508\\r']\n",
      "['NTU', '121.539', '25.015\\r']\n",
      "['Napoli', '14.18287', '40.83785\\r']\n",
      "['Pisa', '10.4', '43.7\\r']\n",
      "['Torino', '7.4', '45.03\\r']\n",
      "['ULAKBIM', '33.02', '39.99\\r']\n",
      "['FNAL', '-88.2546', '41.8412\\r']\n",
      "['Nebraska', '-96.68', '40.82\\r']\n",
      "['VT', '-80.4132', '37.2038\\r']\n",
      "['KMI', '136.969546', '35.154506\\r']\n",
      "['UVic', '-123.311', '48.464\\r']\n",
      "['UA-ISMA', '36.2206144', '50.0321613\\r']\n",
      "['Sydney', '151.2143191', '-33.8607819\\r']\n",
      "['Virginia', '-78.4167041', '37.4030325\\r']\n"
     ]
    }
   ],
   "source": [
    "data_coordinates = read_data(\"input/sites.csv\", split = ',')\n",
    "for site in data_coordinates:\n",
    "    print site"
   ]
  },
  {
   "cell_type": "markdown",
   "metadata": {},
   "source": [
    "We create an object who handles the generacion of the javascript code:"
   ]
  },
  {
   "cell_type": "code",
   "execution_count": 3,
   "metadata": {
    "collapsed": true
   },
   "outputs": [],
   "source": [
    "map = JSgen('web/b2gridmap.js')"
   ]
  },
  {
   "cell_type": "markdown",
   "metadata": {},
   "source": [
    "where `web/b2gridmap.js` is the output of the javascript file. The input for now is the **`gb2_site_summary`** command. (The main goal is to obtain this information inside Dirac enviroment using the Hayasaka-san script, but now I'm working on OSX and I cannot install Dirac client to set up the enviroment)"
   ]
  },
  {
   "cell_type": "code",
   "execution_count": 4,
   "metadata": {
    "collapsed": false
   },
   "outputs": [
    {
     "name": "stdout",
     "output_type": "stream",
     "text": [
      "Site                      Done    Failed   Running   Stalled   Waiting\n",
      "ARC.SIGNET.si           164981      1868       872         1         1\n",
      "CLOUD.AWS_Sydney.au       1020      1006        12         0         2\n",
      "CLOUD.AWS_Tokyo.jp         369       110         1         0         2\n",
      "CLOUD.AWS_Virginia.u      4002      1470        93         0         5\n",
      "CLOUD.CC1_Krakow.pl      45411       445       202         0         2\n",
      "DIRAC.BINP.ru           152344      6303       549         0         2\n",
      "DIRAC.Beihang.cn         10939      1710       100         0         0\n",
      "DIRAC.CINVESTAV.mx       47371      1533        94         0         0\n",
      "DIRAC.DESY.de                2         0         0         0         1\n",
      "DIRAC.Hokudai.jp          9025        88        40         0         0\n",
      "DIRAC.Nara-WU.jp         11140       257        20         0         0\n",
      "DIRAC.Niigata.jp         10418      2122        44         0         2\n",
      "DIRAC.Osaka-CU.jp        17108       126        35         0         0\n",
      "DIRAC.PNNL.us           373525      3000      2549         0         2\n",
      "DIRAC.TIFR.in             3457       141         8         0         2\n",
      "DIRAC.TMU.jp             15876       455        52         0         1\n",
      "DIRAC.Tokyo.jp            3472        27         8         0         3\n",
      "DIRAC.UAS.mx             11104       394        24         0         0\n",
      "DIRAC.UVic.ca           393711     14246      1488         3         3\n",
      "DIRAC.Yonsei.kr           7102      3615        33         0         2\n",
      "LCG.CESNET.cz           186566      1612       507         0         1\n",
      "LCG.CNAF.it             131013     19562       440         0        18\n",
      "LCG.CYFRONET.pl          88099      3829       328         0         2\n",
      "LCG.Cosenza.it          116202      1538       504         0         3\n",
      "LCG.DESY.de            1016913     21821      4436         0         3\n",
      "LCG.Frascati.it         119609      1319       213         0         1\n",
      "LCG.HEPHY.at            249846      4074       474         0         2\n",
      "LCG.KEK2.jp             509486     13250       291         0         2\n",
      "LCG.KISTI.kr             75094      1247       311         0         1\n",
      "LCG.KIT.de              561410      5395      3409         0         1\n",
      "LCG.KMI.jp              176709      2590       370         0         2\n",
      "LCG.Legnaro.it           18976       173         2         0         2\n",
      "LCG.MPPMU.de            310496      6835       793         5         3\n",
      "LCG.McGill.ca            18109       437        43         0         2\n",
      "LCG.Melbourne.au         46116       724        58         0         3\n",
      "LCG.NCHC.tw             188626      1806       498         0         2\n",
      "LCG.NTU.tw                7208        77        28         0         2\n",
      "LCG.Napoli.it           275909      7565      1029         0         1\n",
      "LCG.Pisa.it             392996     11473       348         0         1\n",
      "LCG.Torino.it            21475       513         3         0         2\n",
      "LCG.ULAKBIM.tr           15940       863         0         0         2\n",
      "SSH.KMI.jp                8094        67        28         0         2\n",
      "----------------------------------------------------------------------------------------------------\n",
      "Total                  5817269    145686     20337         9        96\n"
     ]
    }
   ],
   "source": [
    "with open('info/gb2_site_summary.txt', 'r') as f:\n",
    "    print(f.read())"
   ]
  },
  {
   "cell_type": "markdown",
   "metadata": {},
   "source": [
    "The function **`read_gb2_site_summary`** reads the output, returning a list."
   ]
  },
  {
   "cell_type": "code",
   "execution_count": 5,
   "metadata": {
    "collapsed": true
   },
   "outputs": [],
   "source": [
    "ce_obj = read_gb2_site_summary(\"info/gb2_site_summary.txt\")"
   ]
  },
  {
   "cell_type": "markdown",
   "metadata": {},
   "source": [
    "Now **`ce_obj`** is a list of objects. Each element contains the information of one site. "
   ]
  },
  {
   "cell_type": "code",
   "execution_count": null,
   "metadata": {
    "collapsed": true
   },
   "outputs": [],
   "source": [
    "class CE_site:\n",
    "    def __init__(self, se_name = 'CE'):\n",
    "        self.name = se_name\n",
    "        self.jobs_done = 0\n",
    "        self.jobs_failed = 0\n",
    "        self.jobs_running = 0\n",
    "        self.jobs_waiting = 0\n",
    "        self.jobs_stalled = 0\n",
    "        self.coordinates = [0,0]\n",
    "\n",
    "    def print_info(self):\n",
    "        print \"Name: \" + self.name\n",
    "        print \"Jobs_succeeded: \" + str(self.jobs_done)\n",
    "        print \"Jobs_failed: \" + str(self.jobs_failed)\n",
    "        print \"Coordinates: \" + str(self.coordinates[0]) + \",\" + str(self.coordinates[1])"
   ]
  },
  {
   "cell_type": "markdown",
   "metadata": {},
   "source": [
    "For example:"
   ]
  },
  {
   "cell_type": "code",
   "execution_count": 6,
   "metadata": {
    "collapsed": false
   },
   "outputs": [
    {
     "name": "stdout",
     "output_type": "stream",
     "text": [
      "Name: CLOUD.AWS_Sydney.au\n",
      "Jobs_succeeded: 1020\n",
      "Jobs_failed: 1006\n",
      "Coordinates: 151.2143191,-33.8607819\r\n"
     ]
    }
   ],
   "source": [
    "ce_obj[1].print_info()"
   ]
  },
  {
   "cell_type": "markdown",
   "metadata": {},
   "source": [
    "So, we include the computing elements on the map"
   ]
  },
  {
   "cell_type": "code",
   "execution_count": 7,
   "metadata": {
    "collapsed": true
   },
   "outputs": [],
   "source": [
    "for ce in ce_obj:\n",
    "    map.add_ce_site(ce)"
   ]
  },
  {
   "cell_type": "markdown",
   "metadata": {},
   "source": [
    "The input for the storage elements information is the **`gb2_list_se`** command output."
   ]
  },
  {
   "cell_type": "markdown",
   "metadata": {},
   "source": [
    "With  **`read_gb2_list_se`**  we pull the computing element sites information. "
   ]
  },
  {
   "cell_type": "code",
   "execution_count": 8,
   "metadata": {
    "collapsed": false
   },
   "outputs": [],
   "source": [
    "se_obj = read_gb2_list_se(\"info/gb2_list_se.txt\")\n"
   ]
  },
  {
   "cell_type": "markdown",
   "metadata": {},
   "source": [
    "Again, the function returns a list of objects, in which each object represents the information of one SE site. "
   ]
  },
  {
   "cell_type": "code",
   "execution_count": null,
   "metadata": {
    "collapsed": true
   },
   "outputs": [],
   "source": [
    "class SE_site:\n",
    "    def __init__(self, ce_name = 'SE'):\n",
    "        self.read = ''\n",
    "        self.write = ''\n",
    "        self.path = ''\n",
    "        self.name = ce_name\n",
    "        self.endpoint = ['', '']\n",
    "        self.coordinates = [0,0]\n",
    "\n",
    "    def print_info(self):\n",
    "        print \"Name: \" + self.name\n",
    "        print \"Path: \" + self.path\n",
    "        print \"Endpoint: \" + self.endpoint[0] + \" : \" + self.endpoint[1]\n",
    "        print \"Read/Write: \" + self.read + \"/\" + self.write\n",
    "        print \"Coordinates: \" + str(self.coordinates[0]) + \",\" + str(self.coordinates[1])"
   ]
  },
  {
   "cell_type": "markdown",
   "metadata": {},
   "source": [
    "For example:"
   ]
  },
  {
   "cell_type": "code",
   "execution_count": 9,
   "metadata": {
    "collapsed": false
   },
   "outputs": [
    {
     "name": "stdout",
     "output_type": "stream",
     "text": [
      "Name: Adelaide-DATA-SE\n",
      "Path: /dpm/ersa.edu.au/home/belle/DATA\n",
      "Endpoint: coepp-dpm-01.ersa.edu.au : 8446/srm/managerv2?SFN=\n",
      "Read/Write: Active/Active\n",
      "Coordinates: 138.57121,-34.910836\r\n"
     ]
    }
   ],
   "source": [
    "se_obj[0].print_info()"
   ]
  },
  {
   "cell_type": "markdown",
   "metadata": {},
   "source": [
    "Now, we include all this information on the map"
   ]
  },
  {
   "cell_type": "code",
   "execution_count": 10,
   "metadata": {
    "collapsed": true
   },
   "outputs": [],
   "source": [
    "for se in se_obj:\n",
    "    map.add_se_site(se)"
   ]
  },
  {
   "cell_type": "markdown",
   "metadata": {},
   "source": [
    "The function **`pull_dashboard`** searches the endpoint of the storage elements. When it finds a coincidence with the dashboard matrix, draws a line in the map. The color depends of the efficiency."
   ]
  },
  {
   "cell_type": "code",
   "execution_count": null,
   "metadata": {
    "collapsed": true
   },
   "outputs": [],
   "source": [
    "    def pull_dashboard(self, path, hours=720):\n",
    "        se1 = SE_site()\n",
    "        se2 = SE_site()\n",
    "        js_data = urllib2.urlopen(path).read()\n",
    "        dashboard = json.loads(js_data)\n",
    "        # For now, we only need the data transfer info\n",
    "        data_matrix = dashboard['transfers']['rows']\n",
    "        # Search the pair of SE elements\n",
    "        for cell in data_matrix:\n",
    "            for se in self.se_active:\n",
    "                if se.endpoint[0] == cell[0]:\n",
    "                    se1 = se;\n",
    "            for se in self.se_active:\n",
    "                if se.endpoint[0] == cell[1]:\n",
    "                    se2 = se;\n",
    "            #We calculate the speed on kBs\n",
    "            speed = cell[2]/float(hours * 60 * 60 * 1000)\n",
    "            efficiency = cell[3] *100 / (cell[3] + cell[4])\n",
    "\n",
    "            description_text = \"\"\"<strong>Source = \"\"\" + se1.name + \"\"\"</br>\n",
    "            Destination = \"\"\" + se2.name + \"\"\"</strong></br><hr>\n",
    "            <font style=\"font-weight: bold\">Connection info:</font> </br>\n",
    "            <div style=\"padding-left: 5px;\">Throughput: %0.1f kB/s </br>\"\"\"%speed +\\\n",
    "            \"\"\"Efficiency: %0.0f\"\"\"%efficiency +  \"\"\"% </br>\n",
    "            Transfer Successes: \"\"\" + str(cell[3]) +  \"\"\" </br>\n",
    "            Transfer Failures: \"\"\" + str(cell[4]) + \"\"\"  </br>\n",
    "            </div><br />\"\"\"\n",
    "            if efficiency < 20:\n",
    "                color = '#FF0000'\n",
    "            elif efficiency >= 20 and efficiency < 60:\n",
    "                color = '#FFFF00'\n",
    "            elif efficiency >= 60 and efficiency < 80:\n",
    "                color = '#0033FF'\n",
    "            else:\n",
    "                color = '#00CC00'\n",
    "            self.draw_line(se1, se2, color)\n",
    "            self.lines_description.append(description_text)"
   ]
  },
  {
   "cell_type": "markdown",
   "metadata": {},
   "source": [
    "Dashboard can display the info on json format. So, we pull the transfer information directly from the web site. Notice that the last number is the time interval (720 minutes = 12 hours)"
   ]
  },
  {
   "cell_type": "code",
   "execution_count": 11,
   "metadata": {
    "collapsed": true
   },
   "outputs": [],
   "source": [
    "map.pull_dashboard('http://dashb-fts-transfers.cern.ch/' + \\\n",
    "                    'dashboard/request.py/transfer-matrix.json?' + \\\n",
    "                    'vo=belle&server=b2fts3.cc.kek.jp&src_grouping=host'+ \\\n",
    "                    '&dst_grouping=host&interval=720',720)"
   ]
  },
  {
   "cell_type": "markdown",
   "metadata": {},
   "source": [
    "Now, with this information we init the map and close the javascript file"
   ]
  },
  {
   "cell_type": "code",
   "execution_count": 12,
   "metadata": {
    "collapsed": true
   },
   "outputs": [],
   "source": [
    "map.init_map()\n",
    "map.close()"
   ]
  },
  {
   "cell_type": "markdown",
   "metadata": {},
   "source": [
    "And [**this**](http://jaguar.fis.cinvestav.mx/testing/gridmap) is the result when we put the js file running on google maps."
   ]
  },
  {
   "cell_type": "code",
   "execution_count": 13,
   "metadata": {
    "collapsed": false
   },
   "outputs": [
    {
     "data": {
      "text/html": [
       "<iframe src='http://jaguar.fis.cinvestav.mx/testing/gridmap/' width = 800 height = 600></iframe>"
      ],
      "text/plain": [
       "<IPython.core.display.HTML object>"
      ]
     },
     "execution_count": 13,
     "metadata": {},
     "output_type": "execute_result"
    }
   ],
   "source": [
    "from IPython.display import HTML\n",
    "HTML(\"<iframe src='http://jaguar.fis.cinvestav.mx/testing/gridmap/' width = 800 height = 600></iframe>\")"
   ]
  }
 ],
 "metadata": {
  "kernelspec": {
   "display_name": "Python 2",
   "language": "python",
   "name": "python2"
  },
  "language_info": {
   "codemirror_mode": {
    "name": "ipython",
    "version": 2
   },
   "file_extension": ".py",
   "mimetype": "text/x-python",
   "name": "python",
   "nbconvert_exporter": "python",
   "pygments_lexer": "ipython2",
   "version": "2.7.10"
  }
 },
 "nbformat": 4,
 "nbformat_minor": 0
}
